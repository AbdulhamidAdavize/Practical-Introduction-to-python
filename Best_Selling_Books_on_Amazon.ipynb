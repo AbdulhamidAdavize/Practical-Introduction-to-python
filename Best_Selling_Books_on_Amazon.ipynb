{
 "cells": [
  {
   "cell_type": "code",
   "execution_count": 2,
   "id": "91714de6",
   "metadata": {
    "executionInfo": {
     "elapsed": 335,
     "status": "ok",
     "timestamp": 1664189375988,
     "user": {
      "displayName": "Abdulwasiu Tiamiyu",
      "userId": "09795055019680345582"
     },
     "user_tz": -60
    },
    "id": "91714de6"
   },
   "outputs": [],
   "source": [
    "# load EDA packaes\n",
    "import numpy as np\n",
    "import pandas as pd\n",
    "\n",
    "# load visualization packages\n",
    "import seaborn as sns\n",
    "import matplotlib.pyplot as plt\n",
    "%matplotlib inline\n",
    "import plotly.express as px\n",
    "\n",
    "# load web scrapping packages\n",
    "import requests\n",
    "from bs4 import BeautifulSoup\n",
    "from urllib.request import urlopen"
   ]
  },
  {
   "cell_type": "code",
   "execution_count": null,
   "id": "f48f6c77",
   "metadata": {
    "id": "f48f6c77"
   },
   "outputs": [],
   "source": []
  },
  {
   "cell_type": "markdown",
   "id": "2f93be6b",
   "metadata": {
    "id": "f83174a8"
   },
   "source": [
    "# WORKING WITH SELENIUM"
   ]
  },
  {
   "cell_type": "code",
   "execution_count": 53,
   "id": "c47bd815",
   "metadata": {
    "id": "c47bd815"
   },
   "outputs": [],
   "source": [
    "from selenium import webdriver\n",
    "from lxml import html\n",
    "from time import sleep"
   ]
  },
  {
   "cell_type": "code",
   "execution_count": 64,
   "id": "767d597a",
   "metadata": {},
   "outputs": [
    {
     "name": "stderr",
     "output_type": "stream",
     "text": [
      "C:\\Users\\DELL 5480\\AppData\\Local\\Temp\\ipykernel_20072\\3223863141.py:1: DeprecationWarning: executable_path has been deprecated, please pass in a Service object\n",
      "  driver = webdriver.Chrome(\"C:/webDrivers/chromedriver.exe\")\n"
     ]
    }
   ],
   "source": [
    "driver = webdriver.Chrome(\"C:/webDrivers/chromedriver.exe\")"
   ]
  },
  {
   "cell_type": "code",
   "execution_count": 65,
   "id": "6fcd5d08",
   "metadata": {
    "id": "6fcd5d08"
   },
   "outputs": [],
   "source": [
    "driver.get('https://www.amazon.com/gp/bestsellers/books/ref=zg_bsar_cal_ye')"
   ]
  },
  {
   "cell_type": "code",
   "execution_count": 85,
   "id": "429a3fa9",
   "metadata": {
    "id": "429a3fa9"
   },
   "outputs": [],
   "source": [
    "sleep(10)"
   ]
  },
  {
   "cell_type": "code",
   "execution_count": 86,
   "id": "b308a812",
   "metadata": {
    "id": "b308a812"
   },
   "outputs": [],
   "source": [
    "tree = html.fromstring(driver.page_source)  _cDEzb_p13n-sc-css-line-clamp-2_EWgCb - title from xpath inspector"
   ]
  },
  {
   "cell_type": "code",
   "execution_count": 94,
   "id": "6e2d0358",
   "metadata": {
    "id": "6e2d0358"
   },
   "outputs": [
    {
     "name": "stdout",
     "output_type": "stream",
     "text": [
      "[\"I'm So Glad You Were Born: Celebrating Who You Are\", 'Ainsley Earhardt', 'Colleen Hoover', 'Live Wire: Long-Winded Short Stories', 'Kelly Ripa', 'Verity', 'Colleen Hoover', \"I'm Glad My Mom Died\", 'Jennette McCurdy', 'It Ends with Us: A Novel (1)', 'Colleen Hoover', 'Maggie Haberman', 'Verity', 'Colleen Hoover', 'Atomic Habits: An Easy & Proven Way to Build Good Habits & Break Bad Ones', 'James Clear', 'J. K. Rowling', 'Fairy Tale', 'Stephen King', 'The Love Prescription: Seven Days to More Intimacy, Connection, and Joy (The Seven Days Series)', 'John Gottman PhD', 'Where the Crawdads Sing', 'Delia Owens', 'Ugly Love: A Novel', 'Colleen Hoover', 'The Body Keeps the Score: Brain, Mind, and Body in the Healing of Trauma', 'Bessel van der Kolk M.D.', \"Tuesdays with Morrie: An Old Man, a Young Man, and Life's Greatest Lesson, 25th Anniversary Edition\", 'Mitch Albom', 'The Very Hungry Caterpillar', 'Eric Carle', \"Little Blue Truck's Halloween: A Halloween Book for Kids\", 'Alice Schertle', 'Reminders of Him: A Novel', 'Colleen Hoover', 'Charles Leerhsen', 'Killing the Legends: The Lethal Danger of Celebrity', \"Bill O'Reilly\", 'The Seven Husbands of Evelyn Hugo: A Novel', 'Taylor Jenkins Reid', \"Come On, Man!: The Truth About Joe Biden's Terrible, Horrible, No-Good, Very Bad Presidency\", 'Joe Concha', 'Starry Messenger: Cosmic Perspectives on Civilization', 'Neil deGrasse Tyson', 'Good Inside: A Guide to Becoming the Parent You Want to Be', 'Dr. Becky Kennedy', 'My First Learn-to-Write Workbook: Practice for Kids with Pen Control, Line Tracing, Letters, and More!', 'Crystal Radke', 'I Love You to the Moon and Back', 'Amelia Hepworth', 'Jeff Kinney', 'November 9: A Novel', 'Colleen Hoover', 'The 48 Laws of Power', 'Robert Greene', 'Dreamland: A Novel', 'Nicholas Sparks', 'The Four Agreements: A Practical Guide to Personal Freedom (A Toltec Wisdom Book)', 'Don Miguel Ruiz', 'Brown Bear, Brown Bear, What Do You See?', 'Bill Martin Jr.', 'The Silent Woman', 'Minka Kent', 'Spooky Pookie (Little Pookie)', 'Sandra Boynton', 'How to Catch a Witch', 'Alice Walstead', 'The Simply Happy Cookbook: 100-Plus Recipes to Take the Stress Out of Cooking (The Happy Cookbook Series)', 'Steve Doocy', 'The Return of the Gods', 'Jonathan Cahn', 'The Silent Patient', 'Alex Michaelides', 'The Wonderful Things You Will Be', 'Emily Winfield Martin', 'Flash Cards: Sight Words', 'Scholastic Teacher Resources', 'If Animals Kissed Good Night', 'Ann Whitford Paul', 'How to Catch a Monster: A Halloween Picture Book for Kids About Conquering Fears!', 'Adam Wallace', 'American Psychosis: A Historical Investigation of How the Republican Party Went Crazy', 'David Corn', 'Lessons in Chemistry: A Novel', 'Bonnie Garmus', 'Goodnight Moon', 'Margaret Wise Brown', 'The Great Reset: And the War for the World', 'Alex Jones', 'The Divider: Trump in the White House, 2017-2021', 'Peter Baker', \"Jacques Pépin Art Of The Chicken: A Master Chef's Paintings, Stories, and Recipes of the Humble Bird\", 'Jacques Pépin', 'The Leaf Thief: (The Perfect Fall Book for Children and Toddlers)', 'Alice Hemming']\n"
     ]
    }
   ],
   "source": [
    "for product_tree in tree.xpath('//div[contains(@class, \"p13n-gridRow _cDEzb_grid-row_3Cywl\")]'):\n",
    "    title = product_tree.xpath('.//div[@class=\"_cDEzb_p13n-sc-css-line-clamp-1_1Fn1y\"]/text()')\n",
    "    author = product_tree.xpath('.//div[@class=\"_cDEzb_p13n-sc-css-line-clamp-1_1Fn1y\"]/text()')\n",
    "    rating = product_tree.xpath('.//span[@class=\"a-icon-alt\"]/text()')\n",
    "    Customer_reviews = product_tree.xpath('.//span[@class=\"a-size-small\"]/text()')\n",
    "    price = product_tree.xpath('.//span[@class=\"_cDEzb_p13n-sc-price_3mJ9Z\"]/text()')\n",
    "    \n",
    "print(title)"
   ]
  },
  {
   "cell_type": "code",
   "execution_count": 88,
   "id": "950c54fd",
   "metadata": {
    "id": "950c54fd"
   },
   "outputs": [
    {
     "name": "stdout",
     "output_type": "stream",
     "text": [
      "[\"I'm So Glad You Were Born: Celebrating Who You Are\", 'Ainsley Earhardt', 'Colleen Hoover', 'Live Wire: Long-Winded Short Stories', 'Kelly Ripa', 'Verity', 'Colleen Hoover', \"I'm Glad My Mom Died\", 'Jennette McCurdy', 'It Ends with Us: A Novel (1)', 'Colleen Hoover', 'Maggie Haberman', 'Verity', 'Colleen Hoover', 'Atomic Habits: An Easy & Proven Way to Build Good Habits & Break Bad Ones', 'James Clear', 'J. K. Rowling', 'Fairy Tale', 'Stephen King', 'The Love Prescription: Seven Days to More Intimacy, Connection, and Joy (The Seven Days Series)', 'John Gottman PhD', 'Where the Crawdads Sing', 'Delia Owens', 'Ugly Love: A Novel', 'Colleen Hoover', 'The Body Keeps the Score: Brain, Mind, and Body in the Healing of Trauma', 'Bessel van der Kolk M.D.', \"Tuesdays with Morrie: An Old Man, a Young Man, and Life's Greatest Lesson, 25th Anniversary Edition\", 'Mitch Albom', 'The Very Hungry Caterpillar', 'Eric Carle', \"Little Blue Truck's Halloween: A Halloween Book for Kids\", 'Alice Schertle', 'Reminders of Him: A Novel', 'Colleen Hoover', 'Charles Leerhsen', 'Killing the Legends: The Lethal Danger of Celebrity', \"Bill O'Reilly\", 'The Seven Husbands of Evelyn Hugo: A Novel', 'Taylor Jenkins Reid', \"Come On, Man!: The Truth About Joe Biden's Terrible, Horrible, No-Good, Very Bad Presidency\", 'Joe Concha', 'Starry Messenger: Cosmic Perspectives on Civilization', 'Neil deGrasse Tyson', 'Good Inside: A Guide to Becoming the Parent You Want to Be', 'Dr. Becky Kennedy', 'My First Learn-to-Write Workbook: Practice for Kids with Pen Control, Line Tracing, Letters, and More!', 'Crystal Radke', 'I Love You to the Moon and Back', 'Amelia Hepworth', 'Jeff Kinney', 'November 9: A Novel', 'Colleen Hoover', 'The 48 Laws of Power', 'Robert Greene', 'Dreamland: A Novel', 'Nicholas Sparks', 'The Four Agreements: A Practical Guide to Personal Freedom (A Toltec Wisdom Book)', 'Don Miguel Ruiz', 'Brown Bear, Brown Bear, What Do You See?', 'Bill Martin Jr.', 'The Silent Woman', 'Minka Kent', 'Spooky Pookie (Little Pookie)', 'Sandra Boynton', 'How to Catch a Witch', 'Alice Walstead', 'The Simply Happy Cookbook: 100-Plus Recipes to Take the Stress Out of Cooking (The Happy Cookbook Series)', 'Steve Doocy', 'The Return of the Gods', 'Jonathan Cahn', 'The Silent Patient', 'Alex Michaelides', 'The Wonderful Things You Will Be', 'Emily Winfield Martin', 'Flash Cards: Sight Words', 'Scholastic Teacher Resources', 'If Animals Kissed Good Night', 'Ann Whitford Paul', 'How to Catch a Monster: A Halloween Picture Book for Kids About Conquering Fears!', 'Adam Wallace', 'American Psychosis: A Historical Investigation of How the Republican Party Went Crazy', 'David Corn', 'Lessons in Chemistry: A Novel', 'Bonnie Garmus', 'Goodnight Moon', 'Margaret Wise Brown', 'The Great Reset: And the War for the World', 'Alex Jones', 'The Divider: Trump in the White House, 2017-2021', 'Peter Baker', \"Jacques Pépin Art Of The Chicken: A Master Chef's Paintings, Stories, and Recipes of the Humble Bird\", 'Jacques Pépin', 'The Leaf Thief: (The Perfect Fall Book for Children and Toddlers)', 'Alice Hemming']\n"
     ]
    }
   ],
   "source": [
    "print(author)"
   ]
  },
  {
   "cell_type": "code",
   "execution_count": 89,
   "id": "1f534988",
   "metadata": {
    "scrolled": true
   },
   "outputs": [
    {
     "name": "stdout",
     "output_type": "stream",
     "text": [
      "['$14.69', '$12.99', '$20.29', '$11.26', '$18.60', '$9.99', '$20.77', '$19.23', '$11.98', '$32.99', '$18.49', '$13.50', '$9.98', '$10.40', '$11.40', '$7.51', '$4.93', '$6.32', '$9.57', '$28.99', '$19.98', '$9.42', '$19.25', '$18.36', '$19.61', '$4.07', '$4.31', '$10.49', '$9.99', '$11.60', '$16.49', '$7.74', '$4.55', '$12.99', '$3.73', '$7.92', '$19.32', '$17.77', '$11.91', '$8.55', '$2.88', '$4.14', '$5.12', '$24.99', '$18.64', '$5.36', '$20.46', '$21.03', '$23.49', '$10.39']\n"
     ]
    }
   ],
   "source": [
    "print(price)"
   ]
  },
  {
   "cell_type": "code",
   "execution_count": 93,
   "id": "a690daa2",
   "metadata": {},
   "outputs": [
    {
     "name": "stdout",
     "output_type": "stream",
     "text": [
      "['12', '12', '162,300', '16,339', '167,655', '162,300', '83,800', '7,138', '1', '343,144', '81,440', '55,789', '20,580', '53,902', '11,701', '148,329', '8', '124,326', '8', '65', '133', '77,183', '59,944', '37,620', '52,226', '1,040', '86,527', '47,066', '53', '7,183', '95', '253', '701', '134,828', '25,106', '20,418', '69,460', '2,147', '68', '40,167', '24,767', '1,431', '121', '6', '1,036']\n"
     ]
    }
   ],
   "source": [
    "print(Customer_reviews)"
   ]
  },
  {
   "cell_type": "code",
   "execution_count": 95,
   "id": "4bbbe0f3",
   "metadata": {},
   "outputs": [
    {
     "name": "stdout",
     "output_type": "stream",
     "text": [
      "['4.5 out of 5 stars', '4.7 out of 5 stars', '4.6 out of 5 stars', '4.8 out of 5 stars', '4.7 out of 5 stars', '4.6 out of 5 stars', '4.8 out of 5 stars', '4.7 out of 5 stars', '4.0 out of 5 stars', '4.8 out of 5 stars', '4.7 out of 5 stars', '4.8 out of 5 stars', '4.8 out of 5 stars', '4.9 out of 5 stars', '4.9 out of 5 stars', '4.7 out of 5 stars', '3.7 out of 5 stars', '4.6 out of 5 stars', '3.4 out of 5 stars', '4.7 out of 5 stars', '4.9 out of 5 stars', '4.8 out of 5 stars', '4.9 out of 5 stars', '4.7 out of 5 stars', '4.7 out of 5 stars', '4.6 out of 5 stars', '4.7 out of 5 stars', '4.9 out of 5 stars', '4.5 out of 5 stars', '4.9 out of 5 stars', '4.6 out of 5 stars', '4.6 out of 5 stars', '4.8 out of 5 stars', '4.5 out of 5 stars', '4.9 out of 5 stars', '4.8 out of 5 stars', '4.8 out of 5 stars', '4.8 out of 5 stars', '4.6 out of 5 stars', '4.6 out of 5 stars', '4.9 out of 5 stars', '4.9 out of 5 stars', '4.4 out of 5 stars', '3.8 out of 5 stars', '4.8 out of 5 stars']\n"
     ]
    }
   ],
   "source": [
    "print(rating)"
   ]
  },
  {
   "cell_type": "code",
   "execution_count": null,
   "id": "2b83d293",
   "metadata": {},
   "outputs": [],
   "source": []
  },
  {
   "cell_type": "code",
   "execution_count": null,
   "id": "d8012112",
   "metadata": {},
   "outputs": [],
   "source": []
  },
  {
   "cell_type": "markdown",
   "id": "6b05f43d",
   "metadata": {
    "id": "bee5068d"
   },
   "source": [
    "**Putting everything together**"
   ]
  },
  {
   "cell_type": "code",
   "execution_count": 122,
   "id": "a69b489c",
   "metadata": {
    "id": "a69b489c"
   },
   "outputs": [
    {
     "name": "stderr",
     "output_type": "stream",
     "text": [
      "C:\\Users\\DELL 5480\\AppData\\Local\\Temp\\ipykernel_20072\\354983546.py:1: DeprecationWarning: executable_path has been deprecated, please pass in a Service object\n",
      "  driver = webdriver.Chrome(\"C:/webDrivers/chromedriver.exe\")\n"
     ]
    },
    {
     "name": "stdout",
     "output_type": "stream",
     "text": [
      "[\"I'm So Glad You Were Born: Celebrating Who You Are\", 'Ainsley Earhardt', 'Colleen Hoover', 'Live Wire: Long-Winded Short Stories', 'Kelly Ripa', 'Verity', 'Colleen Hoover', \"I'm Glad My Mom Died\", 'Jennette McCurdy', 'It Ends with Us: A Novel (1)', 'Colleen Hoover', 'Maggie Haberman', 'Verity', 'Colleen Hoover', 'Atomic Habits: An Easy & Proven Way to Build Good Habits & Break Bad Ones', 'James Clear', 'J. K. Rowling', 'Fairy Tale', 'Stephen King', 'The Love Prescription: Seven Days to More Intimacy, Connection, and Joy (The Seven Days Series)', 'John Gottman PhD', 'Where the Crawdads Sing', 'Delia Owens', 'Ugly Love: A Novel', 'Colleen Hoover', 'The Body Keeps the Score: Brain, Mind, and Body in the Healing of Trauma', 'Bessel van der Kolk M.D.', \"Tuesdays with Morrie: An Old Man, a Young Man, and Life's Greatest Lesson, 25th Anniversary Edition\", 'Mitch Albom', 'The Very Hungry Caterpillar', 'Eric Carle', \"Little Blue Truck's Halloween: A Halloween Book for Kids\", 'Alice Schertle', 'Reminders of Him: A Novel', 'Colleen Hoover', 'Charles Leerhsen', 'Killing the Legends: The Lethal Danger of Celebrity', \"Bill O'Reilly\", 'The Seven Husbands of Evelyn Hugo: A Novel', 'Taylor Jenkins Reid', \"Come On, Man!: The Truth About Joe Biden's Terrible, Horrible, No-Good, Very Bad Presidency\", 'Joe Concha', 'Starry Messenger: Cosmic Perspectives on Civilization', 'Neil deGrasse Tyson', 'Good Inside: A Guide to Becoming the Parent You Want to Be', 'Dr. Becky Kennedy', 'My First Learn-to-Write Workbook: Practice for Kids with Pen Control, Line Tracing, Letters, and More!', 'Crystal Radke', 'I Love You to the Moon and Back', 'Amelia Hepworth', 'Jeff Kinney', 'November 9: A Novel', 'Colleen Hoover', 'The 48 Laws of Power', 'Robert Greene'] [] ['4.5 out of 5 stars', '4.7 out of 5 stars', '4.6 out of 5 stars', '4.8 out of 5 stars', '4.7 out of 5 stars', '4.6 out of 5 stars', '4.8 out of 5 stars', '4.7 out of 5 stars', '4.0 out of 5 stars', '4.8 out of 5 stars', '4.7 out of 5 stars', '4.8 out of 5 stars', '4.8 out of 5 stars', '4.9 out of 5 stars', '4.9 out of 5 stars', '4.7 out of 5 stars', '3.7 out of 5 stars', '4.6 out of 5 stars', '3.4 out of 5 stars', '4.7 out of 5 stars', '4.9 out of 5 stars', '4.8 out of 5 stars', '4.9 out of 5 stars', '4.7 out of 5 stars', '4.7 out of 5 stars'] ['12', '12', '162,306', '16,340', '167,659', '162,306', '83,800', '7,141', '1', '343,150', '81,441', '55,789', '20,580', '53,902', '11,701', '148,332', '8', '124,327', '8', '66', '133', '77,183', '59,944', '37,622', '52,226'] ['$14.69', '$12.99', '$20.29', '$11.26', '$18.60', '$9.99', '$20.77', '$19.23', '$11.98', '$32.99', '$18.49', '$13.50', '$9.98', '$10.40', '$11.40', '$7.51', '$4.93', '$6.32', '$9.57', '$28.99', '$19.98', '$9.42', '$19.25', '$18.20', '$19.61', '$4.07', '$4.31', '$10.49', '$9.99', '$11.60']\n",
      "\n",
      "\n",
      "\n",
      "\n",
      "\n",
      "\n",
      "\n",
      "\n",
      "\n",
      "\n",
      "\n"
     ]
    }
   ],
   "source": [
    "driver = webdriver.Chrome(\"C:/webDrivers/chromedriver.exe\")\n",
    "\n",
    "\n",
    "for page_nb in range(1,3):\n",
    "    driver.get('https://www.amazon.com/gp/bestsellers/books/ref=zg_bsar_cal_ye&page={}'.format(page_nb))\n",
    "\n",
    "    sleep(10)\n",
    "\n",
    "    tree = html.fromstring(driver.page_source)\n",
    "\n",
    "    for product_tree in tree.xpath('//div[contains(@class, \"p13n-gridRow _cDEzb_grid-row_3Cywl\")]'):\n",
    "        title = product_tree.xpath('.//div[@class=\"_cDEzb_p13n-sc-css-line-clamp-1_1Fn1y\"]/text()')\n",
    "        author = product_tree.xpath('.//a[@class=\"_cDEzb_p13n-sc-css-line-clamp-1_1Fn1y\"]/text()')\n",
    "        rating = product_tree.xpath('.//span[@class=\"a-icon-alt\"]/text()')\n",
    "        Customer_reviews = product_tree.xpath('.//span[@class=\"a-size-small\"]/text()')\n",
    "        price = product_tree.xpath('.//span[@class=\"_cDEzb_p13n-sc-price_3mJ9Z\"]/text()')\n",
    "\n",
    "    print(title, author, rating, Customer_reviews, price)\n",
    "    print(\"\\n\\n\\n\\n\\n\\n\\n\\n\\n\\n\")"
   ]
  },
  {
   "cell_type": "code",
   "execution_count": 121,
   "id": "f162f46d",
   "metadata": {},
   "outputs": [
    {
     "name": "stdout",
     "output_type": "stream",
     "text": [
      "[\"I'm So Glad You Were Born: Celebrating Who You Are\", 'Ainsley Earhardt', 'Colleen Hoover', 'Live Wire: Long-Winded Short Stories', 'Kelly Ripa', 'Verity', 'Colleen Hoover', \"I'm Glad My Mom Died\", 'Jennette McCurdy', 'It Ends with Us: A Novel (1)', 'Colleen Hoover', 'Maggie Haberman', 'Verity', 'Colleen Hoover', 'Atomic Habits: An Easy & Proven Way to Build Good Habits & Break Bad Ones', 'James Clear', 'J. K. Rowling', 'Fairy Tale', 'Stephen King', 'The Love Prescription: Seven Days to More Intimacy, Connection, and Joy (The Seven Days Series)', 'John Gottman PhD', 'Where the Crawdads Sing', 'Delia Owens', 'Ugly Love: A Novel', 'Colleen Hoover', 'The Body Keeps the Score: Brain, Mind, and Body in the Healing of Trauma', 'Bessel van der Kolk M.D.', \"Tuesdays with Morrie: An Old Man, a Young Man, and Life's Greatest Lesson, 25th Anniversary Edition\", 'Mitch Albom', 'The Very Hungry Caterpillar', 'Eric Carle', \"Little Blue Truck's Halloween: A Halloween Book for Kids\", 'Alice Schertle', 'Reminders of Him: A Novel', 'Colleen Hoover', 'Charles Leerhsen', 'Killing the Legends: The Lethal Danger of Celebrity', \"Bill O'Reilly\", 'The Seven Husbands of Evelyn Hugo: A Novel', 'Taylor Jenkins Reid', \"Come On, Man!: The Truth About Joe Biden's Terrible, Horrible, No-Good, Very Bad Presidency\", 'Joe Concha', 'Starry Messenger: Cosmic Perspectives on Civilization', 'Neil deGrasse Tyson', 'Good Inside: A Guide to Becoming the Parent You Want to Be', 'Dr. Becky Kennedy', 'My First Learn-to-Write Workbook: Practice for Kids with Pen Control, Line Tracing, Letters, and More!', 'Crystal Radke', 'I Love You to the Moon and Back', 'Amelia Hepworth', 'Jeff Kinney', 'November 9: A Novel', 'Colleen Hoover', 'The 48 Laws of Power', 'Robert Greene']\n"
     ]
    }
   ],
   "source": [
    "print(title)"
   ]
  },
  {
   "cell_type": "code",
   "execution_count": null,
   "id": "60211066",
   "metadata": {},
   "outputs": [],
   "source": []
  },
  {
   "cell_type": "code",
   "execution_count": 115,
   "id": "e8bda204",
   "metadata": {
    "id": "e8bda204"
   },
   "outputs": [
    {
     "name": "stderr",
     "output_type": "stream",
     "text": [
      "C:\\Users\\DELL 5480\\AppData\\Local\\Temp\\ipykernel_20072\\1757858201.py:3: DeprecationWarning: executable_path has been deprecated, please pass in a Service object\n",
      "  driver = webdriver.Chrome(\"C:/webDrivers/chromedriver.exe\")\n"
     ]
    }
   ],
   "source": [
    "best_selling_books = []\n",
    "# Iterating through the decade, we scrape the books to populate our dataset    \n",
    "driver = webdriver.Chrome(\"C:/webDrivers/chromedriver.exe\")\n",
    "\n",
    "for page_nb in range(1,2):\n",
    "    driver.get('https://www.amazon.com/gp/bestsellers/books/ref=zg_bsar_cal_ye&page={}'.format(page_nb))\n",
    "\n",
    "    sleep(30)\n",
    "\n",
    "    tree = html.fromstring(driver.page_source)\n",
    "\n",
    "    for product_tree in tree.xpath('//div[contains(@class, \"p13n-gridRow _cDEzb_grid-row_3Cywl\")]'):\n",
    "        title = product_tree.xpath('.//div[@class=\"_cDEzb_p13n-sc-css-line-clamp-1_1Fn1y\"]/text()')\n",
    "        author = product_tree.xpath('.//div[@class=\"_cDEzb_p13n-sc-css-line-clamp-1_1Fn1y\"]/text()')\n",
    "        rating = product_tree.xpath('.//span[@class=\"a-icon-alt\"]/text()')\n",
    "        Customer_reviews = product_tree.xpath('.//span[@class=\"a-size-small\"]/text()')\n",
    "        price = product_tree.xpath('.//span[@class=\"_cDEzb_p13n-sc-price_3mJ9Z\"]/text()')\n",
    "\n",
    "\n",
    "        book=[]\n",
    "        # allowing for exceptions when scrapping information from the website\n",
    "        if title is not None:\n",
    "            #print(n[0]['alt'])\n",
    "            book.append(title)\n",
    "            #table_data = driver.find_elements_by_xpath(final_path)[0].text\n",
    "        else:\n",
    "            book.append('unknown_product')\n",
    "\n",
    "        if author is not None:\n",
    "            book.append(author)\n",
    "        elif author is None:\n",
    "            author = d.find('span', attrs={'class':'a-size-small a-color-base'})\n",
    "            if author is not None:\n",
    "                book.append(author.text)\n",
    "            else:\n",
    "                book.append('0')\n",
    "\n",
    "        if rating is not None:\n",
    "            book.append(rating)\n",
    "        else:\n",
    "            book.append('-1')\n",
    "\n",
    "        if Customer_reviews is not None:\n",
    "            book.append(Customer_reviews)\n",
    "        else:\n",
    "            book.append('0')\n",
    "\n",
    "        if price is not None:\n",
    "            book.append(price)\n",
    "        else:\n",
    "            book.append('0')\n",
    "\n",
    "\n",
    "        # appending the year\n",
    "        book.append(page_nb)\n",
    "        # appending all the information in book to the final list\n",
    "        best_selling_books.append(book)"
   ]
  },
  {
   "cell_type": "code",
   "execution_count": 116,
   "id": "0d6df5b5",
   "metadata": {
    "id": "0d6df5b5"
   },
   "outputs": [
    {
     "data": {
      "text/html": [
       "<div>\n",
       "<style scoped>\n",
       "    .dataframe tbody tr th:only-of-type {\n",
       "        vertical-align: middle;\n",
       "    }\n",
       "\n",
       "    .dataframe tbody tr th {\n",
       "        vertical-align: top;\n",
       "    }\n",
       "\n",
       "    .dataframe thead th {\n",
       "        text-align: right;\n",
       "    }\n",
       "</style>\n",
       "<table border=\"1\" class=\"dataframe\">\n",
       "  <thead>\n",
       "    <tr style=\"text-align: right;\">\n",
       "      <th></th>\n",
       "      <th>Book Name</th>\n",
       "      <th>Author</th>\n",
       "      <th>User Rating</th>\n",
       "      <th>Reviews</th>\n",
       "      <th>Price</th>\n",
       "      <th>Year</th>\n",
       "    </tr>\n",
       "  </thead>\n",
       "  <tbody>\n",
       "    <tr>\n",
       "      <th>0</th>\n",
       "      <td>[I'm So Glad You Were Born: Celebrating Who Yo...</td>\n",
       "      <td>[I'm So Glad You Were Born: Celebrating Who Yo...</td>\n",
       "      <td>[4.5 out of 5 stars, 4.7 out of 5 stars, 4.6 o...</td>\n",
       "      <td>[12, 12, 162,306, 16,340, 167,659, 162,306, 83...</td>\n",
       "      <td>[$14.69, $12.99, $20.29, $11.26, $18.60, $9.99...</td>\n",
       "      <td>1</td>\n",
       "    </tr>\n",
       "  </tbody>\n",
       "</table>\n",
       "</div>"
      ],
      "text/plain": [
       "                                           Book Name  \\\n",
       "0  [I'm So Glad You Were Born: Celebrating Who Yo...   \n",
       "\n",
       "                                              Author  \\\n",
       "0  [I'm So Glad You Were Born: Celebrating Who Yo...   \n",
       "\n",
       "                                         User Rating  \\\n",
       "0  [4.5 out of 5 stars, 4.7 out of 5 stars, 4.6 o...   \n",
       "\n",
       "                                             Reviews  \\\n",
       "0  [12, 12, 162,306, 16,340, 167,659, 162,306, 83...   \n",
       "\n",
       "                                               Price  Year  \n",
       "0  [$14.69, $12.99, $20.29, $11.26, $18.60, $9.99...     1  "
      ]
     },
     "execution_count": 116,
     "metadata": {},
     "output_type": "execute_result"
    }
   ],
   "source": [
    "d = pd.DataFrame(best_selling_books, columns=['Book Name', 'Author', 'User Rating', 'Reviews', 'Price', 'Year'])\n",
    "d"
   ]
  },
  {
   "cell_type": "code",
   "execution_count": 114,
   "id": "1524cb30",
   "metadata": {
    "id": "1524cb30"
   },
   "outputs": [
    {
     "data": {
      "text/plain": [
       "(3, 6)"
      ]
     },
     "execution_count": 114,
     "metadata": {},
     "output_type": "execute_result"
    }
   ],
   "source": [
    "d.shape"
   ]
  },
  {
   "cell_type": "code",
   "execution_count": 117,
   "id": "7db00a76",
   "metadata": {
    "id": "7db00a76"
   },
   "outputs": [
    {
     "data": {
      "text/plain": [
       "0    [I'm So Glad You Were Born: Celebrating Who Yo...\n",
       "Name: Book Name, dtype: object"
      ]
     },
     "execution_count": 117,
     "metadata": {},
     "output_type": "execute_result"
    }
   ],
   "source": [
    "d['Book Name']"
   ]
  },
  {
   "cell_type": "code",
   "execution_count": null,
   "id": "29f7c07a",
   "metadata": {
    "id": "29f7c07a"
   },
   "outputs": [],
   "source": []
  },
  {
   "cell_type": "code",
   "execution_count": null,
   "id": "4983ff81",
   "metadata": {
    "id": "4983ff81"
   },
   "outputs": [],
   "source": []
  },
  {
   "cell_type": "code",
   "execution_count": null,
   "id": "df3fb9e3",
   "metadata": {
    "id": "df3fb9e3"
   },
   "outputs": [],
   "source": []
  },
  {
   "cell_type": "code",
   "execution_count": null,
   "id": "7dbee682",
   "metadata": {
    "id": "7dbee682"
   },
   "outputs": [],
   "source": []
  },
  {
   "cell_type": "code",
   "execution_count": null,
   "id": "be90bb09",
   "metadata": {
    "id": "be90bb09"
   },
   "outputs": [],
   "source": []
  },
  {
   "cell_type": "code",
   "execution_count": null,
   "id": "569c0026",
   "metadata": {
    "id": "569c0026"
   },
   "outputs": [],
   "source": []
  },
  {
   "cell_type": "code",
   "execution_count": null,
   "id": "efd18c35",
   "metadata": {
    "id": "efd18c35"
   },
   "outputs": [],
   "source": []
  },
  {
   "cell_type": "code",
   "execution_count": null,
   "id": "d5b44490",
   "metadata": {
    "id": "d5b44490"
   },
   "outputs": [],
   "source": []
  }
 ],
 "metadata": {
  "colab": {
   "provenance": []
  },
  "kernelspec": {
   "display_name": "Python [conda env:StarNPMS] *",
   "language": "python",
   "name": "conda-env-StarNPMS-py"
  },
  "language_info": {
   "codemirror_mode": {
    "name": "ipython",
    "version": 3
   },
   "file_extension": ".py",
   "mimetype": "text/x-python",
   "name": "python",
   "nbconvert_exporter": "python",
   "pygments_lexer": "ipython3",
   "version": "3.9.12"
  },
  "toc": {
   "base_numbering": 1,
   "nav_menu": {},
   "number_sections": true,
   "sideBar": true,
   "skip_h1_title": false,
   "title_cell": "Table of Contents",
   "title_sidebar": "Contents",
   "toc_cell": false,
   "toc_position": {},
   "toc_section_display": true,
   "toc_window_display": false
  },
  "varInspector": {
   "cols": {
    "lenName": 16,
    "lenType": 16,
    "lenVar": 40
   },
   "kernels_config": {
    "python": {
     "delete_cmd_postfix": "",
     "delete_cmd_prefix": "del ",
     "library": "var_list.py",
     "varRefreshCmd": "print(var_dic_list())"
    },
    "r": {
     "delete_cmd_postfix": ") ",
     "delete_cmd_prefix": "rm(",
     "library": "var_list.r",
     "varRefreshCmd": "cat(var_dic_list()) "
    }
   },
   "types_to_exclude": [
    "module",
    "function",
    "builtin_function_or_method",
    "instance",
    "_Feature"
   ],
   "window_display": false
  }
 },
 "nbformat": 4,
 "nbformat_minor": 5
}
